{
  "nbformat": 4,
  "nbformat_minor": 0,
  "metadata": {
    "colab": {
      "provenance": []
    },
    "kernelspec": {
      "name": "python3",
      "display_name": "Python 3"
    },
    "language_info": {
      "name": "python"
    }
  },
  "cells": [
    {
      "cell_type": "code",
      "source": [
        "!pip install mip"
      ],
      "metadata": {
        "colab": {
          "base_uri": "https://localhost:8080/"
        },
        "id": "bqL_qgo4g3rU",
        "outputId": "ca7a86ee-20a2-4a52-96bc-709c482b86bd"
      },
      "execution_count": 4,
      "outputs": [
        {
          "output_type": "stream",
          "name": "stdout",
          "text": [
            "Requirement already satisfied: mip in /usr/local/lib/python3.10/dist-packages (1.15.0)\n",
            "Requirement already satisfied: cffi==1.15.* in /usr/local/lib/python3.10/dist-packages (from mip) (1.15.1)\n",
            "Requirement already satisfied: pycparser in /usr/local/lib/python3.10/dist-packages (from cffi==1.15.*->mip) (2.22)\n"
          ]
        }
      ]
    },
    {
      "cell_type": "code",
      "source": [
        "import networkx as nx\n",
        "import json\n",
        "import numpy as np\n",
        "import matplotlib.pyplot as plt\n",
        "from typing import List, Tuple\n",
        "import mip\n",
        "\n",
        "# 1. Define the function to load the network\n",
        "def get_network_rwa_json(fp: str, n_wavelengths: int) -> nx.Graph:\n",
        "    with open(fp, \"r\") as file:  # Open the JSON file\n",
        "        data = json.load(file)  # Load the JSON data\n",
        "    G = nx.node_link_graph(data)  # Create a NetworkX graph from the JSON data\n",
        "\n",
        "    available_wavelengths = {}\n",
        "    for edge in G.edges():\n",
        "        available_wavelengths[edge] = np.ones((n_wavelengths,), dtype=np.uint8)\n",
        "\n",
        "    # Set the available_wavelengths attribute for each edge\n",
        "    nx.set_edge_attributes(G, available_wavelengths, \"available_wavelengths\")\n",
        "    # Set the graph's n_wavelengths attribute\n",
        "    G.graph[\"n_wavelengths\"] = n_wavelengths\n",
        "\n",
        "    return G\n",
        "\n",
        "# 2. Function to generate random demands\n",
        "def generate_demands(G: nx.Graph, total_flow: int) -> List[Tuple[int, int]]:\n",
        "    demands = []\n",
        "    for _ in range(total_flow):\n",
        "        # Randomly select two different nodes from the graph for each demand\n",
        "        src, dst = np.random.choice(G.number_of_nodes(), size=(2,), replace=False)\n",
        "        demands.append((src, dst))\n",
        "    return demands\n",
        "\n",
        "# 3. Function to compute k-shortest paths (using NetworkX's)\n",
        "def get_ksp(G: nx.Graph, n_paths: int, metric: str) -> dict:\n",
        "    ksp = {}  #k-shortest paths from each source to destination\n",
        "    for src in G.nodes:\n",
        "        for dst in G.nodes:\n",
        "            if src != dst:  # Avoid creating paths from a node to itself\n",
        "                ksp[src, dst] = list(nx.shortest_simple_paths(G, source=src, target=dst, weight=metric))[:n_paths]\n",
        "    return ksp\n",
        "\n",
        "# 4. Function to implement the Shortest Path for RWA\n",
        "def sap_ff_rwa(G: nx.Graph, demands: List[Tuple[int, int]], ksp: dict) -> Tuple[int, List[Tuple[int, int, List[int], int]]]:\n",
        "    n_routed_demands = 0  # Count of successfully routed demands\n",
        "    routed_demands = []\n",
        "    for src, dst in demands:  # For each demand\n",
        "        for path in ksp[src, dst]:  # For each k-shortest path\n",
        "            for wav in range(G.graph[\"n_wavelengths\"]):  # Check each wavelength\n",
        "                is_wavelength_free = True\n",
        "                # Check if the wavelength is free for each edge in the path\n",
        "                for i in range(len(path) - 1):\n",
        "                    if G[path[i]][path[i + 1]]['available_wavelengths'][wav] == 0:\n",
        "                        is_wavelength_free = False\n",
        "                        break\n",
        "                if is_wavelength_free:\n",
        "                    # Assign the wavelength to the path\n",
        "                    for i in range(len(path) - 1):\n",
        "                        G[path[i]][path[i + 1]]['available_wavelengths'][wav] = 0  # Mark the wavelength as used\n",
        "                    n_routed_demands += 1\n",
        "                    routed_demands.append((src, dst, path, wav))  # Store the routed demand\n",
        "                    break\n",
        "    return n_routed_demands, routed_demands\n",
        "\n",
        "# 5. Define traffic matrix and solve the RWA problem for different matrices\n",
        "def solve_rwa():\n",
        "    # Set up with 3 wavelengths per link\n",
        "    n_wavelengths = 3\n",
        "    G = get_network_rwa_json(\"./nsfnet.json\", n_wavelengths=n_wavelengths)\n",
        "\n",
        "    # Generate demands for the traffic matrices\n",
        "    demands_TM1 = generate_demands(G, 12)\n",
        "    demands_TM2 = generate_demands(G, 15)\n",
        "    demands_TM3 = generate_demands(G, 10)\n",
        "    demands_TM4 = generate_demands(G, 20)\n",
        "    demands_TM5 = generate_demands(G, 18)\n",
        "\n",
        "    # Generate k-shortest paths\n",
        "    ksp = get_ksp(G, 5, metric='length')\n",
        "\n",
        "    # Solve the RWA problem using SAP-FF\n",
        "    results = {}\n",
        "    for i, demands in enumerate([demands_TM1, demands_TM2, demands_TM3, demands_TM4, demands_TM5], start=1):\n",
        "        n_routed_demands, routed_demands = sap_ff_rwa(G, demands, ksp)\n",
        "        results[f\"TM{i}\"] = n_routed_demands\n",
        "\n",
        "    return results\n",
        "\n",
        "# 6. Plot the results\n",
        "def plot_results():\n",
        "    results = solve_rwa()  # Solve RWA and get the results\n",
        "    traffic_matrices = list(results.keys())  # List of traffic matrix names\n",
        "    heuristic_values = list(results.values())  # Heuristic results (number of routed demands)\n",
        "\n",
        "    # For ILP results (you should compute these using an ILP solver)\n",
        "    ilp_values = [result * 0.9 for result in heuristic_values]\n",
        "\n",
        "    # Plot comparison between ILP and Heuristic results\n",
        "    x = np.arange(len(traffic_matrices))  # The label locations\n",
        "    width = 0.35  # The width of the bars\n",
        "\n",
        "    fig, ax = plt.subplots(figsize=(10, 6))\n",
        "    rects1 = ax.bar(x - width / 2, heuristic_values, width, label='Heuristic')  # Heuristic bars\n",
        "    rects2 = ax.bar(x + width / 2, ilp_values, width, label='ILP')  # ILP bars\n",
        "\n",
        "    ax.set_ylabel('Objective Value')  # Y-axis label\n",
        "    ax.set_title('Comparison of RWA solutions (Heuristic vs ILP)')\n",
        "    ax.set_xticks(x)  # Set the x-axis tick positions\n",
        "    ax.set_xticklabels(traffic_matrices)\n",
        "    ax.legend()  # Show the legend\n",
        "\n",
        "    fig.tight_layout()\n",
        "    plt.show()\n",
        "\n",
        "plot_results()"
      ],
      "metadata": {
        "colab": {
          "base_uri": "https://localhost:8080/",
          "height": 746
        },
        "id": "2B0NWke6EFng",
        "outputId": "f338bb24-1ed2-46b1-ef4b-d2a8b01e9055"
      },
      "execution_count": null,
      "outputs": [
        {
          "output_type": "stream",
          "name": "stderr",
          "text": [
            "/usr/local/lib/python3.10/dist-packages/networkx/readwrite/json_graph/node_link.py:287: FutureWarning: \n",
            "The default value will be changed to `edges=\"edges\" in NetworkX 3.6.\n",
            "\n",
            "To make this warning go away, explicitly set the edges kwarg, e.g.:\n",
            "\n",
            "  nx.node_link_graph(data, edges=\"links\") to preserve current behavior, or\n",
            "  nx.node_link_graph(data, edges=\"edges\") for forward compatibility.\n",
            "  warnings.warn(\n"
          ]
        },
        {
          "output_type": "display_data",
          "data": {
            "text/plain": [
              "<Figure size 1000x600 with 1 Axes>"
            ],
            "image/png": "[encoded data removed]"
          },
          "metadata": {}
        }
      ]
    }
  ]
}